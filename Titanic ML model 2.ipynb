{
 "cells": [
  {
   "cell_type": "code",
   "execution_count": null,
   "metadata": {
    "_cell_guid": "b1076dfc-b9ad-4769-8c92-a6c4dae69d19",
    "_uuid": "8f2839f25d086af736a60e9eeb907d3b93b6e0e5",
    "execution": {
     "iopub.execute_input": "2022-07-30T20:33:14.074536Z",
     "iopub.status.busy": "2022-07-30T20:33:14.073941Z",
     "iopub.status.idle": "2022-07-30T20:33:14.090203Z",
     "shell.execute_reply": "2022-07-30T20:33:14.089356Z",
     "shell.execute_reply.started": "2022-07-30T20:33:14.074491Z"
    }
   },
   "outputs": [],
   "source": [
    "import plotly.express as px\n",
    "import plotly.graph_objects as go\n",
    "import plotly.io as pio\n",
    "pio.templates\n",
    "\n",
    "import numpy as np \n",
    "import pandas as pd\n",
    "import matplotlib.pyplot as plt\n",
    "import seaborn as sns \n",
    "%matplotlib inline \n",
    "\n",
    "## Models\n",
    "from sklearn import linear_model\n",
    "from sklearn.linear_model import LogisticRegression\n",
    "from sklearn.ensemble import RandomForestClassifier\n",
    "from sklearn.linear_model import Perceptron\n",
    "from sklearn.linear_model import SGDClassifier\n",
    "from sklearn.tree import DecisionTreeClassifier\n",
    "from sklearn.neighbors import KNeighborsClassifier\n",
    "from sklearn.svm import SVC, LinearSVC\n",
    "from sklearn.naive_bayes import GaussianNB\n",
    "from xgboost import XGBClassifier\n",
    "from xgboost import XGBRegressor\n",
    "import xgboost as xgb\n",
    "from sklearn.ensemble import AdaBoostClassifier\n",
    "from catboost import CatBoostClassifier\n",
    "import lightgbm as lgb \n",
    "from keras.models import Sequential\n",
    "from keras.layers import Dense\n",
    "from sklearn.neural_network import MLPClassifier\n",
    "\n",
    "## Model evaluators\n",
    "from sklearn.model_selection import train_test_split, cross_val_score\n",
    "from sklearn.model_selection import RandomizedSearchCV, GridSearchCV\n",
    "from sklearn.metrics import confusion_matrix, classification_report\n",
    "from sklearn.metrics import precision_score, recall_score, f1_score\n",
    "from sklearn.metrics import plot_roc_curve\n"
   ]
  },
  {
   "cell_type": "code",
   "execution_count": null,
   "metadata": {
    "execution": {
     "iopub.execute_input": "2022-07-30T20:33:14.466648Z",
     "iopub.status.busy": "2022-07-30T20:33:14.465176Z",
     "iopub.status.idle": "2022-07-30T20:33:14.493177Z",
     "shell.execute_reply": "2022-07-30T20:33:14.492078Z",
     "shell.execute_reply.started": "2022-07-30T20:33:14.466559Z"
    }
   },
   "outputs": [],
   "source": [
    "train_data = pd.read_csv(\"/kaggle/input/titanic/train.csv\")\n",
    "train_data.drop(['Name', 'Ticket'], axis=1, inplace=True)\n",
    "train_data.tail()"
   ]
  },
  {
   "cell_type": "code",
   "execution_count": null,
   "metadata": {
    "execution": {
     "iopub.execute_input": "2022-07-30T20:33:14.860692Z",
     "iopub.status.busy": "2022-07-30T20:33:14.860143Z",
     "iopub.status.idle": "2022-07-30T20:33:14.884638Z",
     "shell.execute_reply": "2022-07-30T20:33:14.883288Z",
     "shell.execute_reply.started": "2022-07-30T20:33:14.860646Z"
    }
   },
   "outputs": [],
   "source": [
    "test_data = pd.read_csv(\"/kaggle/input/titanic/test.csv\")\n",
    "test_data.drop(['Name', 'Ticket'], axis=1, inplace=True)\n",
    "test_data.tail()"
   ]
  },
  {
   "cell_type": "code",
   "execution_count": null,
   "metadata": {
    "execution": {
     "iopub.execute_input": "2022-07-30T20:33:15.300840Z",
     "iopub.status.busy": "2022-07-30T20:33:15.300330Z",
     "iopub.status.idle": "2022-07-30T20:33:15.547338Z",
     "shell.execute_reply": "2022-07-30T20:33:15.545952Z",
     "shell.execute_reply.started": "2022-07-30T20:33:15.300794Z"
    }
   },
   "outputs": [],
   "source": [
    "sns.set_theme(style=\"darkgrid\")\n",
    "ax = sns.countplot(x=\"Survived\", hue='Pclass', data=train_data)\n",
    "ax"
   ]
  },
  {
   "cell_type": "code",
   "execution_count": null,
   "metadata": {
    "execution": {
     "iopub.execute_input": "2022-07-30T20:33:16.326152Z",
     "iopub.status.busy": "2022-07-30T20:33:16.325637Z",
     "iopub.status.idle": "2022-07-30T20:33:16.397908Z",
     "shell.execute_reply": "2022-07-30T20:33:16.396765Z",
     "shell.execute_reply.started": "2022-07-30T20:33:16.326109Z"
    }
   },
   "outputs": [],
   "source": [
    "import plotly.express as px\n",
    "fig = px.box(train_data, x=\"Pclass\", y=\"Age\", color=\"Sex\")\n",
    "fig.update_traces(quartilemethod=\"exclusive\") # or \"inclusive\", or \"linear\" by default\n",
    "fig.show()"
   ]
  },
  {
   "cell_type": "code",
   "execution_count": null,
   "metadata": {
    "execution": {
     "iopub.execute_input": "2022-07-30T20:33:17.830666Z",
     "iopub.status.busy": "2022-07-30T20:33:17.830120Z",
     "iopub.status.idle": "2022-07-30T20:33:17.858362Z",
     "shell.execute_reply": "2022-07-30T20:33:17.857175Z",
     "shell.execute_reply.started": "2022-07-30T20:33:17.830617Z"
    }
   },
   "outputs": [],
   "source": [
    "def impute_age(cols):\n",
    "    Age = cols[0]\n",
    "    Pclass = cols[1]\n",
    "    Sex = cols[2]\n",
    "    \n",
    "    if pd.isnull(Age):\n",
    "        if Pclass==1:\n",
    "            if Sex=='male':\n",
    "                return 40\n",
    "            elif Sex=='female':\n",
    "                return 35\n",
    "            \n",
    "        elif Pclass==2:\n",
    "            if Sex=='male':\n",
    "                return 30\n",
    "            elif Sex=='female':\n",
    "                return 28\n",
    "            \n",
    "        elif Pclass==3:\n",
    "            if Sex=='male':\n",
    "                return 25\n",
    "            elif Sex=='female':\n",
    "                return 22\n",
    "            \n",
    "    else:\n",
    "        return Age\n",
    "\n",
    "train_data['Age'] = train_data[['Age','Pclass','Sex']].apply(impute_age, axis=1)"
   ]
  },
  {
   "cell_type": "code",
   "execution_count": null,
   "metadata": {
    "execution": {
     "iopub.execute_input": "2022-07-30T20:33:19.178185Z",
     "iopub.status.busy": "2022-07-30T20:33:19.177239Z",
     "iopub.status.idle": "2022-07-30T20:33:19.188346Z",
     "shell.execute_reply": "2022-07-30T20:33:19.187220Z",
     "shell.execute_reply.started": "2022-07-30T20:33:19.178135Z"
    }
   },
   "outputs": [],
   "source": [
    "train_data[train_data['Embarked'].isnull()].index.tolist()"
   ]
  },
  {
   "cell_type": "code",
   "execution_count": null,
   "metadata": {
    "execution": {
     "iopub.execute_input": "2022-07-30T20:33:20.273036Z",
     "iopub.status.busy": "2022-07-30T20:33:20.272143Z",
     "iopub.status.idle": "2022-07-30T20:33:20.289604Z",
     "shell.execute_reply": "2022-07-30T20:33:20.288704Z",
     "shell.execute_reply.started": "2022-07-30T20:33:20.272989Z"
    }
   },
   "outputs": [],
   "source": [
    "train_data.drop('Cabin', axis=1, inplace=True)\n",
    "train_data.dropna(inplace=True)\n",
    "train_data.isnull().sum()"
   ]
  },
  {
   "cell_type": "code",
   "execution_count": null,
   "metadata": {
    "execution": {
     "iopub.execute_input": "2022-07-30T20:33:21.014480Z",
     "iopub.status.busy": "2022-07-30T20:33:21.013200Z",
     "iopub.status.idle": "2022-07-30T20:33:21.087077Z",
     "shell.execute_reply": "2022-07-30T20:33:21.085981Z",
     "shell.execute_reply.started": "2022-07-30T20:33:21.014421Z"
    }
   },
   "outputs": [],
   "source": [
    "fig = px.box(test_data, x=\"Pclass\", y=\"Age\", color=\"Sex\")\n",
    "fig.update_traces(quartilemethod=\"exclusive\") # or \"inclusive\", or \"linear\" by default\n",
    "fig.show()"
   ]
  },
  {
   "cell_type": "code",
   "execution_count": null,
   "metadata": {
    "execution": {
     "iopub.execute_input": "2022-07-30T20:33:22.468696Z",
     "iopub.status.busy": "2022-07-30T20:33:22.467472Z",
     "iopub.status.idle": "2022-07-30T20:33:22.487971Z",
     "shell.execute_reply": "2022-07-30T20:33:22.486835Z",
     "shell.execute_reply.started": "2022-07-30T20:33:22.468626Z"
    }
   },
   "outputs": [],
   "source": [
    "def impute_age1(cols):\n",
    "    Age = cols[0]\n",
    "    Pclass = cols[1]\n",
    "    Sex = cols[2]\n",
    "    \n",
    "    if pd.isnull(Age):\n",
    "        if Pclass==1:\n",
    "            if Sex=='male':\n",
    "                return 42\n",
    "            elif Sex=='female':\n",
    "                return 41\n",
    "            \n",
    "        elif Pclass==2:\n",
    "            if Sex=='male':\n",
    "                return 28\n",
    "            elif Sex=='female':\n",
    "                return 24\n",
    "            \n",
    "        elif Pclass==3:\n",
    "            if Sex=='male':\n",
    "                return 24\n",
    "            elif Sex=='female':\n",
    "                return 22\n",
    "            \n",
    "    else:\n",
    "        return Age\n",
    "\n",
    "test_data['Age'] = test_data[['Age','Pclass','Sex']].apply(impute_age1, axis=1)"
   ]
  },
  {
   "cell_type": "code",
   "execution_count": null,
   "metadata": {
    "execution": {
     "iopub.execute_input": "2022-07-30T20:33:25.096855Z",
     "iopub.status.busy": "2022-07-30T20:33:25.095954Z",
     "iopub.status.idle": "2022-07-30T20:33:25.111348Z",
     "shell.execute_reply": "2022-07-30T20:33:25.110121Z",
     "shell.execute_reply.started": "2022-07-30T20:33:25.096801Z"
    }
   },
   "outputs": [],
   "source": [
    "test_data.drop('Cabin', axis=1, inplace=True)\n",
    "test_data['Fare'].fillna(test_data['Fare'].mode()[0], inplace=True)\n",
    "test_data.isnull().sum()"
   ]
  },
  {
   "cell_type": "code",
   "execution_count": null,
   "metadata": {
    "execution": {
     "iopub.execute_input": "2022-07-30T20:34:43.611059Z",
     "iopub.status.busy": "2022-07-30T20:34:43.610526Z",
     "iopub.status.idle": "2022-07-30T20:34:43.618971Z",
     "shell.execute_reply": "2022-07-30T20:34:43.618025Z",
     "shell.execute_reply.started": "2022-07-30T20:34:43.611015Z"
    }
   },
   "outputs": [],
   "source": [
    "test_data.shape[0]"
   ]
  },
  {
   "cell_type": "code",
   "execution_count": null,
   "metadata": {
    "execution": {
     "iopub.execute_input": "2022-07-30T20:34:53.183302Z",
     "iopub.status.busy": "2022-07-30T20:34:53.182430Z",
     "iopub.status.idle": "2022-07-30T20:34:53.204422Z",
     "shell.execute_reply": "2022-07-30T20:34:53.203150Z",
     "shell.execute_reply.started": "2022-07-30T20:34:53.183257Z"
    }
   },
   "outputs": [],
   "source": [
    "from sklearn.ensemble import RandomForestClassifier\n",
    "from sklearn.datasets import make_classification\n",
    "from sklearn.model_selection import cross_val_score\n",
    "\n",
    "y = train_data[\"Survived\"]\n",
    "\n",
    "features = [\"Pclass\", \"Sex\", \"Age\", \"SibSp\", \"Parch\", \"Fare\", \"Embarked\"]\n",
    "X = pd.get_dummies(train_data[features])\n",
    "\n",
    "# Number of trees in random forest\n",
    "n_estimators = [int(x) for x in np.linspace(start = 10, stop = 500, num = 10)]\n",
    "# Number of features to consider at every split\n",
    "max_features = ['auto', 'sqrt']\n",
    "# Maximum number of levels in tree\n",
    "max_depth = [2,8]\n",
    "# Minimum number of samples required to split a node\n",
    "min_samples_split = [2,8]\n",
    "# Minimum number of samples required at each leaf node\n",
    "min_samples_leaf = [1, 4]\n",
    "# Method of selecting samples for training each tree\n",
    "bootstrap = [True, False]\n",
    "\n",
    "from sklearn.model_selection import train_test_split\n",
    "X_train, X_test, y_train, y_test = train_test_split(X, y, test_size=0.20, \n",
    "                                                    random_state=101)\n",
    "\n",
    "param_grid = {'n_estimators': n_estimators,\n",
    "               'max_features': max_features,\n",
    "               'max_depth': max_depth,\n",
    "               'min_samples_split': min_samples_split,\n",
    "               'min_samples_leaf': min_samples_leaf,\n",
    "               'bootstrap': bootstrap}\n",
    "\n",
    "rf_Model = RandomForestClassifier()"
   ]
  },
  {
   "cell_type": "code",
   "execution_count": null,
   "metadata": {
    "execution": {
     "iopub.execute_input": "2022-07-30T20:35:02.261745Z",
     "iopub.status.busy": "2022-07-30T20:35:02.261224Z",
     "iopub.status.idle": "2022-07-30T20:36:09.333987Z",
     "shell.execute_reply": "2022-07-30T20:36:09.332369Z",
     "shell.execute_reply.started": "2022-07-30T20:35:02.261700Z"
    }
   },
   "outputs": [],
   "source": [
    "from sklearn.model_selection import RandomizedSearchCV\n",
    "rf_RandomGrid = RandomizedSearchCV(estimator = rf_Model, \n",
    "                                   param_distributions = param_grid, cv = 50, \n",
    "                                   verbose=2, n_jobs = 4)\n",
    "rf_RandomGrid.fit(X_train, y_train)\n",
    "rf_RandomGrid.best_params_"
   ]
  },
  {
   "cell_type": "code",
   "execution_count": null,
   "metadata": {
    "execution": {
     "iopub.execute_input": "2022-07-30T20:36:44.359199Z",
     "iopub.status.busy": "2022-07-30T20:36:44.357972Z",
     "iopub.status.idle": "2022-07-30T20:36:44.418679Z",
     "shell.execute_reply": "2022-07-30T20:36:44.417167Z",
     "shell.execute_reply.started": "2022-07-30T20:36:44.359142Z"
    }
   },
   "outputs": [],
   "source": [
    "print (f'Train Accuracy - : {rf_RandomGrid.score(X_train,y_train):.3f}')\n",
    "print (f'Test Accuracy - : {rf_RandomGrid.score(X_test,y_test):.3f}')"
   ]
  },
  {
   "cell_type": "code",
   "execution_count": null,
   "metadata": {
    "execution": {
     "iopub.execute_input": "2022-07-30T20:38:48.350785Z",
     "iopub.status.busy": "2022-07-30T20:38:48.350248Z",
     "iopub.status.idle": "2022-07-30T20:38:48.598772Z",
     "shell.execute_reply": "2022-07-30T20:38:48.597481Z",
     "shell.execute_reply.started": "2022-07-30T20:38:48.350738Z"
    }
   },
   "outputs": [],
   "source": [
    "X_test = pd.get_dummies(test_data[features])\n",
    "\n",
    "model = RandomForestClassifier(n_estimators=118, criterion='gini', max_depth=8, \n",
    "                               min_samples_split=8, min_samples_leaf=1, \n",
    "                               max_features='auto', \n",
    "                               max_leaf_nodes=None, bootstrap=True)\n",
    "model.fit(X, y)\n",
    "predictions = model.predict(X_test)\n",
    "predictions\n",
    "output = pd.DataFrame({'PassengerId': test_data.PassengerId, 'Survived': predictions})\n",
    "output.to_csv('submission2.csv', index=False)"
   ]
  },
  {
   "cell_type": "code",
   "execution_count": null,
   "metadata": {},
   "outputs": [],
   "source": []
  }
 ],
 "metadata": {
  "kernelspec": {
   "display_name": "Python 3 (ipykernel)",
   "language": "python",
   "name": "python3"
  },
  "language_info": {
   "codemirror_mode": {
    "name": "ipython",
    "version": 3
   },
   "file_extension": ".py",
   "mimetype": "text/x-python",
   "name": "python",
   "nbconvert_exporter": "python",
   "pygments_lexer": "ipython3",
   "version": "3.10.8"
  }
 },
 "nbformat": 4,
 "nbformat_minor": 4
}
